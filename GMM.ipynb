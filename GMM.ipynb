{
  "nbformat": 4,
  "nbformat_minor": 0,
  "metadata": {
    "colab": {
      "name": "GMM.ipynb",
      "provenance": [],
      "collapsed_sections": []
    },
    "kernelspec": {
      "name": "python3",
      "display_name": "Python 3"
    },
    "language_info": {
      "name": "python"
    }
  },
  "cells": [
    {
      "cell_type": "code",
      "metadata": {
        "id": "LIR2IA2IR4pk"
      },
      "source": [
        "import pandas as pd\n",
        "import numpy as np\n",
        "import math\n",
        "\n",
        "train_data = pd.read_csv(\"/content/train-gaussian.csv\",skiprows=1,names=['class','x1','x2','x3'])\n",
        "test_data = pd.read_csv(\"/content/test-gaussian.csv\",skiprows=1,names=['class','x1','x2','x3'])\n"
      ],
      "execution_count": 1,
      "outputs": []
    },
    {
      "cell_type": "code",
      "metadata": {
        "id": "tf1ZpGWPSaCu"
      },
      "source": [
        "X = train_data[['x1','x2','x3']]\n",
        "Y = train_data['class']\n",
        "c1 = train_data.loc[train_data['class']=='A']\n",
        "c2 = train_data.loc[train_data['class']=='B']\n",
        "pr1= c1.shape[0]/train_data.shape[0]\n",
        "pr2= c2.shape[0]/train_data.shape[0]"
      ],
      "execution_count": 2,
      "outputs": []
    },
    {
      "cell_type": "code",
      "metadata": {
        "id": "gi2R4-rPTT0U"
      },
      "source": [
        "k = 16\n",
        "centroids = []\n",
        "for i in range(k):\n",
        "  a = (X.sample()).to_numpy()[0]\n",
        "  centroids.append(a)\n",
        "centroids = np.array(centroids)"
      ],
      "execution_count": 3,
      "outputs": []
    },
    {
      "cell_type": "code",
      "metadata": {
        "id": "P3lp_3Svc9IN"
      },
      "source": [
        "def dist(x, y):\n",
        "  return np.linalg.norm(x-y)"
      ],
      "execution_count": 4,
      "outputs": []
    },
    {
      "cell_type": "code",
      "metadata": {
        "id": "mqA5zml2djNl"
      },
      "source": [
        "def closestCentroid(c, x):\n",
        "  assigned_cent = []\n",
        "  for i in x:\n",
        "    distance = []\n",
        "    for j in c:\n",
        "      distance.append(dist(i,j))\n",
        "    assigned_cent.append(np.argmin(distance))\n",
        "  return np.array(assigned_cent)"
      ],
      "execution_count": 5,
      "outputs": []
    },
    {
      "cell_type": "code",
      "metadata": {
        "id": "TvWD7eHZ23bw"
      },
      "source": [
        "def genNewCent(X,cluster, k):\n",
        "  centroidmu = []\n",
        "  centroidsigma = []\n",
        "  for j in range(k):\n",
        "    xk = X[cluster == j]\n",
        "    xk = pd.DataFrame(xk, columns = ['x1','x2','x3'])\n",
        "    centroidmu.append(xk.mean())\n",
        "    centroidsigma.append(xk.cov())\n",
        "  return np.array(centroidmu), np.array(centroidsigma)"
      ],
      "execution_count": 6,
      "outputs": []
    },
    {
      "cell_type": "code",
      "metadata": {
        "id": "lbBhzjJBSbCw"
      },
      "source": [
        "def pdf(x, mu, sigma):\n",
        "  '''\n",
        "  pdf for large dataset to utilize np array vectorization\n",
        "  '''\n",
        "  det = np.linalg.det(sigma)\n",
        "  const = 1 / (((2 * np.pi) ** (mu.shape[0] / 2)) * (det ** 0.5))\n",
        "  xmu = x - mu\n",
        "  xmu = xmu.reshape(xmu.shape[0],xmu.shape[1],1)\n",
        "  xmut = np.transpose(xmu, (0,2,1))\n",
        "  test = xmut @ np.linalg.inv(sigma) @ xmu\n",
        "  test = test.reshape(test.shape[0],test.shape[1])\n",
        "  exponential = np.exp(-0.5 * test)\n",
        "  return const * exponential"
      ],
      "execution_count": 7,
      "outputs": []
    },
    {
      "cell_type": "code",
      "metadata": {
        "id": "yPKtJjqM-PUC"
      },
      "source": [
        "def pdf1x(x, mu, sigma):\n",
        "  '''\n",
        "  pdf for individual data points\n",
        "  '''\n",
        "  p1 = (1/(math.pow(2*math.pi,x.shape[0]/2) * np.linalg.det(sigma)))\n",
        "  p2 = ((x-mu).T) @ np.linalg.inv(sigma) @ (x-mu)\n",
        "  p3 = math.exp(-(1/2) * p2)\n",
        "  return p1 * p3"
      ],
      "execution_count": 8,
      "outputs": []
    },
    {
      "cell_type": "code",
      "metadata": {
        "id": "ydfm9TYDd0J1"
      },
      "source": [
        "# k-mean clustering initialization\n",
        "Xdat = X.to_numpy()\n",
        "for i in range(10):\n",
        "  get_cent = closestCentroid(centroids,Xdat)\n",
        "  centroids, centroidsigma = genNewCent(Xdat,get_cent,k)\n",
        "w = np.ones((k)) /k"
      ],
      "execution_count": 9,
      "outputs": []
    },
    {
      "cell_type": "code",
      "metadata": {
        "colab": {
          "base_uri": "https://localhost:8080/"
        },
        "id": "0AH0fomFocoI",
        "outputId": "f215a828-1f82-4b05-cb51-37219d1f6c68"
      },
      "source": [
        "print(get_cent)\n",
        "clusterTarget = []\n",
        "for j in range(k):\n",
        "  xk = Y[get_cent == j]\n",
        "  clusY = xk.to_numpy()\n",
        "  clusterTarget.append(clusY[int(clusY.shape[0]/2)])\n",
        "  #print(clusY.median())\n",
        "  "
      ],
      "execution_count": 10,
      "outputs": [
        {
          "output_type": "stream",
          "text": [
            "[ 0  0  0 ... 15 15 15]\n"
          ],
          "name": "stdout"
        }
      ]
    },
    {
      "cell_type": "code",
      "metadata": {
        "id": "ODPj_dWlKPtU"
      },
      "source": [
        "likelihood = []\n",
        "#E Step\n",
        "for i in range(k):\n",
        "  likelihood.append(pdf(Xdat, centroids[i], centroidsigma[i]))\n",
        "likelihood = np.array(likelihood)\n",
        "means = centroids.copy()\n",
        "sigmas = centroidsigma.copy()\n",
        "for i in range(k):\n",
        "  prior = w[i] * likelihood[i] / (np.sum([likelihood[j] * w[j] for j in range(k)], axis=0))\n",
        "  #M step\n",
        "  means[i] = np.sum(prior * Xdat) / np.sum(prior)\n",
        "  xmumle = Xdat - means[i]\n",
        "  xmumle = xmumle.reshape(xmumle.shape[0],xmumle.shape[1],1)\n",
        "  xmumlet = np.transpose(xmumle, (0,2,1))\n",
        "  priorre = prior.reshape(prior.shape[0], prior.shape[1], 1)\n",
        "  sigmas[i] = np.sum(priorre * (xmumle  @ xmumlet),axis=0)/np.sum(prior)\n",
        "  w[i] = np.mean(prior)"
      ],
      "execution_count": 11,
      "outputs": []
    },
    {
      "cell_type": "code",
      "metadata": {
        "id": "Eie8tdNVSeq-",
        "colab": {
          "base_uri": "https://localhost:8080/"
        },
        "outputId": "ec81398e-c9a6-40c4-896b-34d72a315edf"
      },
      "source": [
        "correct = 0\n",
        "\n",
        "for i in range(test_data.shape[0]):\n",
        "  test = test_data.iloc[i]\n",
        "  target = test.loc['class']\n",
        "  test = test.loc[['x1','x2','x3']]\n",
        "  test = test.to_numpy()\n",
        "  #uncomment and inversely comment the choice of matrix\n",
        "  maxscore = 0\n",
        "  maxvalue = ''\n",
        "  for j in range(k):\n",
        "    #full covariance matrix\n",
        "    score = pdf1x(test,means[j], sigmas[j]) * w[j]\n",
        "    #diagonal covariance matrix\n",
        "    #score = pdf1x(test,means[j], np.diag(np.diag(sigmas[j]))) * w[j]\n",
        "    if score > maxscore:\n",
        "      maxscore = score\n",
        "      maxvalue = clusterTarget[j]\n",
        "  choice = ''\n",
        "  if target == maxvalue:\n",
        "    correct += 1\n",
        "print(\"classification rate:\")\n",
        "print(correct / test_data.shape[0])"
      ],
      "execution_count": 12,
      "outputs": [
        {
          "output_type": "stream",
          "text": [
            "classification rate:\n",
            "0.7759036144578313\n"
          ],
          "name": "stdout"
        }
      ]
    }
  ]
}